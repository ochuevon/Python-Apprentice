{
 "cells": [
  {
   "cell_type": "code",
   "execution_count": null,
   "metadata": {},
   "outputs": [],
   "source": [
    "\"\"\"\n",
    "Programmable turtle graphics\n",
    "\n",
    "Use what you've learned about lists, loop, cycle, slice and zip to draw a pattern\n",
    "\n",
    "\"\"\"\n",
    "\n",
    "import turtle                           \n",
    "\n",
    "\n",
    "\n",
    "t = turtle.Turtle()                  \n",
    "\n",
    "colors = [ 'red','blue','green','orange']\n",
    "\n",
    "\n",
    "distances = [ '30', '60', '90']\n",
    "angles = [ '30', '60', '90']\n",
    "\n",
    "directions = [\n",
    "    (0, 10),\n",
    "    (90, 20),\n",
    "    (0, 40),\n",
    "    (270, 10)\n",
    "]\n",
    "\n",
    "\n",
    "# Zip the colors and directions together, then unpack them. THere is a good example of this\n",
    "# in 10_More_iterables.ipynb in the discussion of zip()\n",
    "\n",
    "for color, (angle, distance) in zip( colors , directions):\n",
    "    t.color( color )\n",
    "    t.forward( distance )\n",
    "    t.left( angle )\n",
    "\n",
    "\n",
    "turtle.exitonclick()\n"
   ]
  }
 ],
 "metadata": {
  "kernelspec": {
   "display_name": ".venv",
   "language": "python",
   "name": "python3"
  },
  "language_info": {
   "codemirror_mode": {
    "name": "ipython",
    "version": 3
   },
   "file_extension": ".py",
   "mimetype": "text/x-python",
   "name": "python",
   "nbconvert_exporter": "python",
   "pygments_lexer": "ipython3",
   "version": "3.12.4"
  }
 },
 "nbformat": 4,
 "nbformat_minor": 2
}
